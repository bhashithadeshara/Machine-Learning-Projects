{
 "cells": [
  {
   "cell_type": "markdown",
   "id": "bbe9b6e1",
   "metadata": {},
   "source": [
    "# Import Libraries"
   ]
  },
  {
   "cell_type": "code",
   "execution_count": 11,
   "id": "ec133d87",
   "metadata": {},
   "outputs": [],
   "source": [
    "import numpy as np\n",
    "import pandas as pd\n",
    "import matplotlib.pyplot as plt"
   ]
  },
  {
   "cell_type": "markdown",
   "id": "1f3be55b",
   "metadata": {},
   "source": [
    "# Import phyaat"
   ]
  },
  {
   "cell_type": "code",
   "execution_count": 12,
   "id": "a2014599",
   "metadata": {},
   "outputs": [
    {
     "name": "stdout",
     "output_type": "stream",
     "text": [
      "Version : 0.0.3\n"
     ]
    }
   ],
   "source": [
    "#!pip install phyaat  # if not installed yet\n",
    "\n",
    "import phyaat\n",
    "print('Version :' ,phyaat.__version__)\n",
    "import phyaat as ph"
   ]
  },
  {
   "cell_type": "markdown",
   "id": "4f974471",
   "metadata": {},
   "source": [
    "# Download Data - (According to the need)"
   ]
  },
  {
   "cell_type": "code",
   "execution_count": 10,
   "id": "8765fbc9",
   "metadata": {},
   "outputs": [
    {
     "name": "stdout",
     "output_type": "stream",
     "text": [
      "NOTE:: Path :  \"../PhyAAt_Data\" is not accessible. Creating  \"phyaat\" in  \"/tmp\" directory for dataset\n",
      "Total Subjects :  1\n"
     ]
    },
    {
     "data": {
      "text/plain": [
       "{1: {'sigFile': '/tmp/phyaat/phyaat_dataset/Signals/S1/S1_Signals.csv',\n",
       "  'txtFile': '/tmp/phyaat/phyaat_dataset/Signals/S1/S1_Textscore.csv'}}"
      ]
     },
     "execution_count": 10,
     "metadata": {},
     "output_type": "execute_result"
    }
   ],
   "source": [
    "dirPath = ph.download_data(baseDir='../PhyAAt_Data', subject=1,verbose=0,overwrite=False)\n",
    "#returns a dictionary containing file names of all the subjects available in baseDir\n",
    "SubID = ph.ReadFilesPath(dirPath)"
   ]
  },
  {
   "cell_type": "markdown",
   "id": "1006ab42",
   "metadata": {},
   "source": [
    "# Locate the subject’s file"
   ]
  },
  {
   "cell_type": "code",
   "execution_count": 3,
   "id": "16b29ce8",
   "metadata": {},
   "outputs": [
    {
     "data": {
      "text/plain": [
       "{'sigFile': '/tmp/phyaat/phyaat_dataset/Signals/S1/S1_Signals.csv',\n",
       " 'txtFile': '/tmp/phyaat/phyaat_dataset/Signals/S1/S1_Textscore.csv'}"
      ]
     },
     "execution_count": 3,
     "metadata": {},
     "output_type": "execute_result"
    }
   ],
   "source": [
    "#check files of subject=1\n",
    "SubID[1]"
   ]
  },
  {
   "cell_type": "markdown",
   "id": "99e2ea15",
   "metadata": {},
   "source": [
    "# Preprocessing of Data"
   ]
  },
  {
   "cell_type": "markdown",
   "id": "002c9da8",
   "metadata": {},
   "source": [
    "## Create Subj (obj) with data of Subject=1"
   ]
  },
  {
   "cell_type": "code",
   "execution_count": 8,
   "id": "2bc52f0a",
   "metadata": {},
   "outputs": [],
   "source": [
    "# Create a Subj holding dataset of subject=1\n",
    "\n",
    "Subj = ph.Subject(SubID[1])"
   ]
  },
  {
   "cell_type": "markdown",
   "id": "c8e0c47a",
   "metadata": {},
   "source": [
    "## Filtering - removing DC"
   ]
  },
  {
   "cell_type": "code",
   "execution_count": 5,
   "id": "1779922e",
   "metadata": {},
   "outputs": [],
   "source": [
    "#filtering with highpass filter of cutoff frequency 0.5Hz\n",
    "\n",
    "Subj.filter_EEG(band =[0.5],btype='highpass',order=5)"
   ]
  },
  {
   "cell_type": "markdown",
   "id": "88b94677",
   "metadata": {},
   "source": [
    "## Artifact removal using ICA [ ~6mins] "
   ]
  },
  {
   "cell_type": "code",
   "execution_count": 9,
   "id": "d4b18b20",
   "metadata": {},
   "outputs": [
    {
     "name": "stdout",
     "output_type": "stream",
     "text": [
      "ICA Artifact Removal : extended-infomax\n",
      "99.85%|################################################# |278188\\277761|\n"
     ]
    }
   ],
   "source": [
    "#Remving Artifact using ICA, setting window size to 1280 (10sec), which is larg, but takes less time\n",
    "\n",
    "Subj.correct(method='ICA',verbose=1,winsize=128*10)"
   ]
  },
  {
   "cell_type": "markdown",
   "id": "62bcf30a",
   "metadata": {},
   "source": [
    "## Feature Extraction - Rhythmic Features [~2min] "
   ]
  },
  {
   "cell_type": "code",
   "execution_count": 10,
   "id": "16895c85",
   "metadata": {},
   "outputs": [
    {
     "name": "stdout",
     "output_type": "stream",
     "text": [
      "100%|##################################################|100\\100|Sg - 0|    \n",
      "100%|##################################################|100\\100|Sg - 1|    \n",
      "100%|##################################################|100\\100|Sg - 2|    \n",
      "100%|##################################################|43\\43|Sg - 0|    \n",
      "100%|##################################################|43\\43|Sg - 1|    \n",
      "100%|##################################################|43\\43|Sg - 2|    \n",
      "DataShape:  (290, 84) (290, 5) (120, 84) (120, 5)\n"
     ]
    }
   ],
   "source": [
    "# setting task=-1, does extract the features from all the segmensts for all the four tasks and\n",
    "# returns y_train as (n,4), one coulum for each task. Next time extracting Xy for any particular\n",
    "# task won't extract the features agains, unless you force it by setting 'redo'=True.\n",
    "\n",
    "X_train,y_train,X_test, y_test = Subj.getXy_eeg(task=-1)\n",
    "\n",
    "print('DataShape: ',X_train.shape,y_train.shape,X_test.shape, y_test.shape)"
   ]
  },
  {
   "cell_type": "markdown",
   "id": "6c3acc6d",
   "metadata": {},
   "source": [
    "# Predictive Modeling with SVM"
   ]
  },
  {
   "cell_type": "code",
   "execution_count": 11,
   "id": "e0323f09",
   "metadata": {},
   "outputs": [],
   "source": [
    "from sklearn import svm"
   ]
  },
  {
   "cell_type": "markdown",
   "id": "4f164e5d",
   "metadata": {},
   "source": [
    "## T4 Task: LWR classification "
   ]
  },
  {
   "cell_type": "code",
   "execution_count": 12,
   "id": "0813299b",
   "metadata": {},
   "outputs": [
    {
     "name": "stdout",
     "output_type": "stream",
     "text": [
      "DataShape:  (290, 84) (290,) (120, 84) (120,)\n",
      "\n",
      "Class labels : [0 1 2]\n"
     ]
    }
   ],
   "source": [
    "X_train,y_train, X_test,y_test = Subj.getXy_eeg(task=4)\n",
    "\n",
    "print('DataShape: ',X_train.shape,y_train.shape,X_test.shape, y_test.shape)\n",
    "print('\\nClass labels :',np.unique(y_train))"
   ]
  },
  {
   "cell_type": "code",
   "execution_count": 13,
   "id": "6fdcc6a5",
   "metadata": {},
   "outputs": [
    {
     "name": "stdout",
     "output_type": "stream",
     "text": [
      "Training Accuracy: 0.9413793103448276\n",
      "Testing  Accuracy: 0.875\n"
     ]
    }
   ],
   "source": [
    "# Normalization - SVM works well with normalized features\n",
    "means = X_train.mean(0)\n",
    "std   = X_train.std(0)\n",
    "X_train = (X_train-means)/std\n",
    "X_test  = (X_test-means)/std\n",
    "\n",
    "\n",
    "# Training\n",
    "clf = svm.SVC(kernel='rbf', C=1,gamma='auto')\n",
    "clf.fit(X_train,y_train)\n",
    "\n",
    "# Predition\n",
    "ytp = clf.predict(X_train)\n",
    "ysp = clf.predict(X_test)\n",
    "\n",
    "# Evaluation\n",
    "T4_trac =  np.mean(y_train==ytp)\n",
    "T4_tsac =  np.mean(y_test==ysp)\n",
    "print('Training Accuracy:',T4_trac)\n",
    "print('Testing  Accuracy:',T4_tsac)"
   ]
  },
  {
   "cell_type": "markdown",
   "id": "a1316f55",
   "metadata": {},
   "source": [
    "## T3 Task: Semanticity classification "
   ]
  },
  {
   "cell_type": "code",
   "execution_count": 14,
   "id": "c52fad86",
   "metadata": {},
   "outputs": [
    {
     "name": "stdout",
     "output_type": "stream",
     "text": [
      "DataShape:  (100, 84) (100,) (43, 84) (43,)\n",
      "\n",
      "Class labels : [0 1]\n"
     ]
    }
   ],
   "source": [
    "X_train,y_train, X_test,y_test = Subj.getXy_eeg(task=3)\n",
    "\n",
    "print('DataShape: ',X_train.shape,y_train.shape,X_test.shape, y_test.shape)\n",
    "print('\\nClass labels :',np.unique(y_train))"
   ]
  },
  {
   "cell_type": "code",
   "execution_count": 15,
   "id": "6fc80fe7",
   "metadata": {},
   "outputs": [
    {
     "name": "stdout",
     "output_type": "stream",
     "text": [
      "Training Accuracy: 0.86\n",
      "Testing  Accuracy: 0.5813953488372093\n"
     ]
    }
   ],
   "source": [
    "# Normalization - SVM works well with normalized features\n",
    "means = X_train.mean(0)\n",
    "std   = X_train.std(0)\n",
    "X_train = (X_train-means)/std\n",
    "X_test  = (X_test-means)/std\n",
    "\n",
    "\n",
    "# Training\n",
    "clf = svm.SVC(kernel='rbf', C=1,gamma='auto')\n",
    "clf.fit(X_train,y_train)\n",
    "\n",
    "# Predition\n",
    "ytp = clf.predict(X_train)\n",
    "ysp = clf.predict(X_test)\n",
    "\n",
    "\n",
    "# Evaluation\n",
    "T3_trac =  np.mean(y_train==ytp)\n",
    "T3_tsac =  np.mean(y_test==ysp)\n",
    "print('Training Accuracy:',T3_trac)\n",
    "print('Testing  Accuracy:',T3_tsac)"
   ]
  },
  {
   "cell_type": "markdown",
   "id": "c066c3d1",
   "metadata": {},
   "source": [
    "## T2 Task: Noise level prediction : Regression "
   ]
  },
  {
   "cell_type": "code",
   "execution_count": 16,
   "id": "a52eb685",
   "metadata": {},
   "outputs": [
    {
     "name": "stdout",
     "output_type": "stream",
     "text": [
      "If you are running feature extraction with DIFFERENT parameters again to recompute, set redo=True, else function will return pre-computed features, if exist\n",
      "To suppress this warning2, set redo_warn=False\n",
      "DataShape:  (100, 84) (100,) (43, 84) (43,)\n",
      "\n",
      "Noise levels     : [  -6   -3    0    3    6 1000]\n",
      "New Noise levels : [-6 -3  0  3  6 10]\n"
     ]
    }
   ],
   "source": [
    "X_train,y_train, X_test,y_test = Subj.getXy_eeg(task=2)\n",
    "\n",
    "print('DataShape: ',X_train.shape,y_train.shape,X_test.shape, y_test.shape)\n",
    "print('\\nNoise levels     :',np.unique(y_train))\n",
    "\n",
    "#change 1000 dB to 10 dB\n",
    "y_train[y_train==1000]=10\n",
    "y_test[y_test==1000]=10\n",
    "\n",
    "print('New Noise levels :',np.unique(y_train))"
   ]
  },
  {
   "cell_type": "code",
   "execution_count": 17,
   "id": "b5155a47",
   "metadata": {},
   "outputs": [
    {
     "name": "stdout",
     "output_type": "stream",
     "text": [
      "Training MAE: 4.002671605390758\n",
      "Testing  MAE: 4.734974941124211\n"
     ]
    }
   ],
   "source": [
    "# Normalization - SVM works well with normalized features\n",
    "means = X_train.mean(0)\n",
    "std   = X_train.std(0)\n",
    "X_train = (X_train-means)/std\n",
    "X_test  = (X_test-means)/std\n",
    "\n",
    "\n",
    "# Training\n",
    "clf = svm.SVR(kernel='rbf', C=1,gamma='auto')\n",
    "clf.fit(X_train,y_train)\n",
    "\n",
    "# Predition\n",
    "ytp = clf.predict(X_train)\n",
    "ysp = clf.predict(X_test)\n",
    "\n",
    "# Evaluation\n",
    "T2_tre =  np.mean(np.abs(y_train-ytp))\n",
    "T2_tse =  np.mean(np.abs(y_test-ysp))\n",
    "print('Training MAE:',T2_tre)\n",
    "print('Testing  MAE:',T2_tse)"
   ]
  },
  {
   "cell_type": "markdown",
   "id": "c8192943",
   "metadata": {},
   "source": [
    "## T1 Task: Attention Level prediction: Regression "
   ]
  },
  {
   "cell_type": "code",
   "execution_count": 18,
   "id": "d359ac4b",
   "metadata": {},
   "outputs": [
    {
     "name": "stdout",
     "output_type": "stream",
     "text": [
      "If you are running feature extraction with DIFFERENT parameters again to recompute, set redo=True, else function will return pre-computed features, if exist\n",
      "To suppress this warning2, set redo_warn=False\n",
      "DataShape:  (100, 84) (100,) (43, 84) (43,)\n",
      "\n",
      "Attention levels:\n",
      " [  0   7  12  14  15  18  20  22  25  28  33  37  38  42  44  45  46  50\n",
      "  54  60  62  66  71  72  75  76  80  83  85  87  88 100]\n",
      "\n",
      "New Attention levels:\n",
      " [  0  10  20  30  40  50  60  70  80 100]\n"
     ]
    }
   ],
   "source": [
    "X_train,y_train, X_test,y_test = Subj.getXy_eeg(task=1)\n",
    "\n",
    "print('DataShape: ',X_train.shape,y_train.shape,X_test.shape, y_test.shape)\n",
    "print('\\nAttention levels:\\n',np.unique(y_train))\n",
    "\n",
    "# Round off around 10\n",
    "\n",
    "y_train = 10*(y_train//10)\n",
    "y_test = 10*(y_test//10)\n",
    "\n",
    "print('\\nNew Attention levels:\\n',np.unique(y_train))"
   ]
  },
  {
   "cell_type": "code",
   "execution_count": 19,
   "id": "51f5e51d",
   "metadata": {},
   "outputs": [
    {
     "name": "stdout",
     "output_type": "stream",
     "text": [
      "Training MAE: 30.32014989855741\n",
      "Testing  MAE: 32.70221496347915\n"
     ]
    }
   ],
   "source": [
    "# Normalization - SVM works well with normalized features\n",
    "means = X_train.mean(0)\n",
    "std   = X_train.std(0)\n",
    "X_train = (X_train-means)/std\n",
    "X_test  = (X_test-means)/std\n",
    "\n",
    "\n",
    "# Training\n",
    "clf = svm.SVR(kernel='rbf', C=1,gamma='auto')\n",
    "clf.fit(X_train,y_train)\n",
    "\n",
    "# Predition\n",
    "ytp = clf.predict(X_train)\n",
    "ysp = clf.predict(X_test)\n",
    "\n",
    "# Evaluation\n",
    "T1_tre =  np.mean(np.abs(y_train-ytp))\n",
    "T1_tse =  np.mean(np.abs(y_test-ysp))\n",
    "print('Training MAE:',T1_tre)\n",
    "print('Testing  MAE:',T1_tse)"
   ]
  },
  {
   "cell_type": "markdown",
   "id": "3334da00",
   "metadata": {},
   "source": [
    "# Results"
   ]
  },
  {
   "cell_type": "code",
   "execution_count": 20,
   "id": "95475034",
   "metadata": {},
   "outputs": [
    {
     "data": {
      "image/png": "[encoded data removed]",
      "text/plain": [
       "<Figure size 1300x300 with 4 Axes>"
      ]
     },
     "metadata": {},
     "output_type": "display_data"
    }
   ],
   "source": [
    "fig = plt.figure(figsize=(13,3))\n",
    "plt.subplot(141)\n",
    "plt.bar(1, [T1_tre])\n",
    "plt.bar(2, [T1_tse])\n",
    "plt.xlim([0,3])\n",
    "plt.xticks([])\n",
    "plt.xlabel('T1: Attention Level',fontsize=13)\n",
    "plt.ylabel('MAE')\n",
    "\n",
    "plt.subplot(142)\n",
    "plt.bar(1, [T2_tre])\n",
    "plt.bar(2, [T2_tse])\n",
    "plt.xticks([])\n",
    "plt.xlabel('T2: Noise Level',fontsize=13)\n",
    "plt.ylabel('MAE')\n",
    "\n",
    "\n",
    "plt.xlim([0,3])\n",
    "plt.subplot(143)\n",
    "plt.bar(1, [T3_trac])\n",
    "plt.bar(2, [T3_tsac])\n",
    "plt.xticks([])\n",
    "plt.xlabel('T3: Semanticity',fontsize=13)\n",
    "plt.ylabel('Accuracy')\n",
    "\n",
    "plt.xlim([0,3])\n",
    "plt.subplot(144)\n",
    "plt.bar(1, [T4_trac],label='Training')\n",
    "plt.bar(2, [T4_tsac],label='Testing')\n",
    "plt.xlim([0,3])\n",
    "plt.xticks([])\n",
    "plt.xlabel('T4: LWR',fontsize=13)\n",
    "plt.ylabel('Accuracy')\n",
    "plt.legend(bbox_to_anchor=(1,1))\n",
    "plt.subplots_adjust(wspace=0.5)\n",
    "fig.suptitle(\"Predictive Tasks with SVM\", fontsize=\"x-large\")\n",
    "plt.show()"
   ]
  },
  {
   "cell_type": "code",
   "execution_count": null,
   "id": "853e14ed",
   "metadata": {},
   "outputs": [],
   "source": []
  }
 ],
 "metadata": {
  "kernelspec": {
   "display_name": "Python 3 (ipykernel)",
   "language": "python",
   "name": "python3"
  },
  "language_info": {
   "codemirror_mode": {
    "name": "ipython",
    "version": 3
   },
   "file_extension": ".py",
   "mimetype": "text/x-python",
   "name": "python",
   "nbconvert_exporter": "python",
   "pygments_lexer": "ipython3",
   "version": "3.9.13"
  }
 },
 "nbformat": 4,
 "nbformat_minor": 5
}
